{
 "cells": [
  {
   "cell_type": "markdown",
   "metadata": {},
   "source": [
    "# Задание 2.\n",
    "\n",
    "**NB. Все упражнения ниже нужно делать без использования циклов Python в явном (`while`, `for`) и неявном виде (list comprehension, `map`, `reduce` и пр)**\n",
    "\n",
    "Задания по манипуляциям с массивами чаще всего решаются в одно/два выражения. "
   ]
  },
  {
   "cell_type": "code",
   "execution_count": 1,
   "metadata": {},
   "outputs": [
    {
     "data": {
      "text/plain": [
       "array([[12, 16, 40, ..., 72,  1, 28],\n",
       "       [21, 10, 50, ..., 69, 52, 56],\n",
       "       [23, 89, 51, ..., 62, 71, 58],\n",
       "       ...,\n",
       "       [68, 77, 91, ..., 60, 18, 63],\n",
       "       [53, 35, 64, ...,  6, 26, 44],\n",
       "       [13, 22, 92, ..., 57, 53,  5]])"
      ]
     },
     "execution_count": 1,
     "metadata": {},
     "output_type": "execute_result"
    }
   ],
   "source": [
    "%matplotlib inline\n",
    "\n",
    "import numpy as np\n",
    "import matplotlib.pyplot as plt\n",
    "import seaborn as sns\n",
    "sns.set_theme()\n",
    "\n",
    "A = np.random.randint(0, 100, size=(200, 50))\n",
    "A"
   ]
  },
  {
   "cell_type": "markdown",
   "metadata": {},
   "source": [
    "# Задание 2.1 (2 балла)\n",
    "\n",
    "Сгенерируйте новый массив, в котором столбцы массива `A` переставлены в случайном порядке"
   ]
  },
  {
   "cell_type": "code",
   "execution_count": 2,
   "metadata": {},
   "outputs": [
    {
     "data": {
      "text/plain": [
       "array([[30, 75, 25, ..., 36, 46, 67],\n",
       "       [24, 96, 92, ..., 19, 70, 26],\n",
       "       [93,  0, 87, ..., 76, 82, 65],\n",
       "       ...,\n",
       "       [54, 55, 50, ..., 12, 54, 74],\n",
       "       [84, 37, 67, ..., 50, 24,  7],\n",
       "       [64, 13, 66, ..., 33, 21,  7]])"
      ]
     },
     "execution_count": 2,
     "metadata": {},
     "output_type": "execute_result"
    }
   ],
   "source": [
    "B = A[:, np.random.permutation(A.shape[1])]\n",
    "B"
   ]
  },
  {
   "cell_type": "markdown",
   "metadata": {},
   "source": [
    "# Задание 2.2 (5 баллов)\n",
    "\n",
    "Сгенерируйте новый массив, который содержит только те строки массива `A`, в которых: \n",
    "- сумма элементов по четным столбцам (индексы $0, 2, \\ldots$) больше среднего значения (по всему массиву) суммы элементов по нечетным столбцам (индексы $1, 3, \\ldots$) "
   ]
  },
  {
   "cell_type": "code",
   "execution_count": 3,
   "metadata": {},
   "outputs": [
    {
     "name": "stdout",
     "output_type": "stream",
     "text": [
      "[[65 19 12 ... 77 86 51]\n",
      " [23 64 42 ... 83 95 69]\n",
      " [85 86 79 ... 49 97 10]\n",
      " ...\n",
      " [89 58 83 ... 42 67 11]\n",
      " [22 53 81 ... 17 53 13]\n",
      " [32  4 75 ... 31  4 64]]\n"
     ]
    }
   ],
   "source": [
    "A = np.random.randint(0, 100, size=(200, 50))\n",
    "sum_in_row = A[:, ::2].sum(axis=1)\n",
    "mean_sum_in_row = A[:, 1::2].sum(axis=1).mean()\n",
    "B = A[sum_in_row > mean_sum_in_row]\n",
    "print(B)"
   ]
  },
  {
   "cell_type": "markdown",
   "metadata": {},
   "source": [
    "# Задача 2.3 (3 балла)\n",
    "\n",
    "Найдите индекс строки массива `A`, в которой разница между максимальным и минимальным элементом максимальна"
   ]
  },
  {
   "cell_type": "code",
   "execution_count": 4,
   "metadata": {},
   "outputs": [
    {
     "data": {
      "text/plain": [
       "8"
      ]
     },
     "execution_count": 4,
     "metadata": {},
     "output_type": "execute_result"
    }
   ],
   "source": [
    "A = np.random.randint(0, 100, size=(200, 50))\n",
    "np.argmax(np.ptp(A, axis=1))\n",
    "\n",
    "\n"
   ]
  },
  {
   "cell_type": "markdown",
   "metadata": {},
   "source": [
    "# Задание 2.4 (7 баллов)\n",
    "\n",
    "Сгенерируйте массив той же размерности, что и `A`, но в котором каждый элемент заменен на его порядковый номер (начиная с 1) в отсортированном по возрастанию массиве из элементов `A`\n",
    "\n",
    "Если `A` выглядит так:\n",
    "$$\n",
    "\\begin{pmatrix}\n",
    "12 & 14\\\\\n",
    "1 & 2\n",
    "\\end{pmatrix}\n",
    "$$\n",
    "то результат должен быть\n",
    "$$\n",
    "\\begin{pmatrix}\n",
    "3 & 4\\\\\n",
    "1 & 2\n",
    "\\end{pmatrix}\n",
    "$$\n",
    "\n",
    "*Tip: рассмотрите возможность неоднократного применения [argsort()](https://numpy.org/doc/stable/reference/generated/numpy.ndarray.argsort.html)*"
   ]
  },
  {
   "cell_type": "code",
   "execution_count": 5,
   "metadata": {},
   "outputs": [
    {
     "name": "stdout",
     "output_type": "stream",
     "text": [
      "[[2270 3024  489 ... 5844 6259  627]\n",
      " [ 711 3970 7172 ... 1318 4448 2954]\n",
      " [3874 3498 9788 ... 9524 7506 8952]\n",
      " ...\n",
      " [ 181 5945 2936 ... 7736 1677 4855]\n",
      " [2496 2101 9684 ... 1381 4167 6022]\n",
      " [1108 9835 6032 ... 3178 9297 3809]]\n"
     ]
    }
   ],
   "source": [
    "print(A.ravel().argsort().reshape(A.shape) + 1)"
   ]
  },
  {
   "cell_type": "markdown",
   "metadata": {},
   "source": [
    "# Задание 2.5 (2 балла)\n",
    "\n",
    "Примените $\\min-\\max$ - нормализацию к строкам массива `A`. То есть нужно получить новый массивы, в каждой строке которого максимальный элементы равен $1$, минимальный - $0$. "
   ]
  },
  {
   "cell_type": "code",
   "execution_count": 6,
   "metadata": {},
   "outputs": [
    {
     "data": {
      "text/plain": [
       "array([[0.66666667, 0.61290323, 0.20430108, ..., 0.75268817, 1.        ,\n",
       "        0.22580645],\n",
       "       [0.6185567 , 0.67010309, 0.74226804, ..., 0.84536082, 0.79381443,\n",
       "        0.        ],\n",
       "       [0.81914894, 0.35106383, 0.67021277, ..., 0.        , 0.72340426,\n",
       "        0.63829787],\n",
       "       ...,\n",
       "       [0.94680851, 0.72340426, 0.18085106, ..., 0.32978723, 0.31914894,\n",
       "        0.30851064],\n",
       "       [0.67676768, 0.67676768, 0.11111111, ..., 0.31313131, 0.74747475,\n",
       "        0.7979798 ],\n",
       "       [0.41052632, 1.        , 0.21052632, ..., 0.42105263, 0.97894737,\n",
       "        0.78947368]])"
      ]
     },
     "execution_count": 6,
     "metadata": {},
     "output_type": "execute_result"
    }
   ],
   "source": [
    "np.transpose((A.T - np.min(A, axis=1)) / (np.max(A, axis=1) - np.min(A, axis=1)))"
   ]
  },
  {
   "cell_type": "markdown",
   "metadata": {},
   "source": [
    "# Задание 2.6 (2 балла)\n",
    "\n",
    "Сгенерируйте новый трехмерный массив, размерности $10 \\times 200 \\times 50$. Подмассивы по нулевой оси должны состоять из элементов `A`, умноженных на $1 - 10$ соответственно"
   ]
  },
  {
   "cell_type": "code",
   "execution_count": 7,
   "metadata": {},
   "outputs": [
    {
     "name": "stdout",
     "output_type": "stream",
     "text": [
      "[[[ 67  62  24 ...  75  98  26]\n",
      "  [ 61  66  73 ...  83  78   1]\n",
      "  [ 82  38  68 ...   5  73  65]\n",
      "  ...\n",
      "  [ 91  70  19 ...  33  32  31]\n",
      "  [ 67  67  11 ...  31  74  79]\n",
      "  [ 42  98  23 ...  43  96  78]]\n",
      "\n",
      " [[134 124  48 ... 150 196  52]\n",
      "  [122 132 146 ... 166 156   2]\n",
      "  [164  76 136 ...  10 146 130]\n",
      "  ...\n",
      "  [182 140  38 ...  66  64  62]\n",
      "  [134 134  22 ...  62 148 158]\n",
      "  [ 84 196  46 ...  86 192 156]]\n",
      "\n",
      " [[201 186  72 ... 225 294  78]\n",
      "  [183 198 219 ... 249 234   3]\n",
      "  [246 114 204 ...  15 219 195]\n",
      "  ...\n",
      "  [273 210  57 ...  99  96  93]\n",
      "  [201 201  33 ...  93 222 237]\n",
      "  [126 294  69 ... 129 288 234]]\n",
      "\n",
      " ...\n",
      "\n",
      " [[536 496 192 ... 600 784 208]\n",
      "  [488 528 584 ... 664 624   8]\n",
      "  [656 304 544 ...  40 584 520]\n",
      "  ...\n",
      "  [728 560 152 ... 264 256 248]\n",
      "  [536 536  88 ... 248 592 632]\n",
      "  [336 784 184 ... 344 768 624]]\n",
      "\n",
      " [[603 558 216 ... 675 882 234]\n",
      "  [549 594 657 ... 747 702   9]\n",
      "  [738 342 612 ...  45 657 585]\n",
      "  ...\n",
      "  [819 630 171 ... 297 288 279]\n",
      "  [603 603  99 ... 279 666 711]\n",
      "  [378 882 207 ... 387 864 702]]\n",
      "\n",
      " [[670 620 240 ... 750 980 260]\n",
      "  [610 660 730 ... 830 780  10]\n",
      "  [820 380 680 ...  50 730 650]\n",
      "  ...\n",
      "  [910 700 190 ... 330 320 310]\n",
      "  [670 670 110 ... 310 740 790]\n",
      "  [420 980 230 ... 430 960 780]]] (10, 200, 50)\n"
     ]
    }
   ],
   "source": [
    "C = np.tile(A, (10, 1))\n",
    "C = C.reshape(10, *A.shape) * np.arange(1, 11).reshape(10, 1, 1)\n",
    "print(C, C.shape)"
   ]
  },
  {
   "cell_type": "markdown",
   "metadata": {},
   "source": [
    "# Задание 2.7 (2 балла)\n",
    "\n",
    "Создайте новый массив, такой же размерности, как и `A`, в котором сначала сгруппированы четные столбцы `A`, потом  нечетные. Используйте [np.concat()](https://numpy.org/doc/stable/reference/generated/numpy.concatenate.html) "
   ]
  },
  {
   "cell_type": "code",
   "execution_count": 8,
   "metadata": {},
   "outputs": [
    {
     "name": "stdout",
     "output_type": "stream",
     "text": [
      "[[67 24 22 ... 95 75 26]\n",
      " [61 73  5 ... 86 83  1]\n",
      " [82 68 14 ...  5  5 65]\n",
      " ...\n",
      " [91 19  6 ... 73 33 31]\n",
      " [67 11 91 ... 75 31 79]\n",
      " [42 23 17 ...  3 43 78]]\n"
     ]
    }
   ],
   "source": [
    "D = np.concatenate((A[:, ::2], A[:, 1::2]), axis=1)\n",
    "print(D)"
   ]
  },
  {
   "cell_type": "markdown",
   "metadata": {},
   "source": [
    "# Задание 2.8 (2 балла)\n",
    "\n",
    "Посчитайте количество строк массива `A`, в который все элементы больше 5. Используйте [np.all()](https://numpy.org/doc/stable/reference/generated/numpy.all.html) "
   ]
  },
  {
   "cell_type": "code",
   "execution_count": 9,
   "metadata": {},
   "outputs": [
    {
     "name": "stdout",
     "output_type": "stream",
     "text": [
      "4\n"
     ]
    }
   ],
   "source": [
    "A = np.random.randint(0, 100, size=(200, 50))\n",
    "E=np.all(A > 5, axis = 1).sum()\n",
    "print(E.sum())"
   ]
  },
  {
   "cell_type": "markdown",
   "metadata": {},
   "source": [
    "# Задание 2.9 (2 балла)\n",
    "\n",
    "Поделите массив `A` горизонтально на 10 частей и создайте новый массив размерности $20 \\times 50$, который является средним этих частей. Используйте [np.split()](https://numpy.org/doc/stable/reference/generated/numpy.split.html)"
   ]
  },
  {
   "cell_type": "code",
   "execution_count": 10,
   "metadata": {},
   "outputs": [
    {
     "name": "stdout",
     "output_type": "stream",
     "text": [
      "[[64.  47.6 51.1 71.2 33.2 38.  47.9 56.7 58.2 49.8 52.2 37.3 45.7 45.2\n",
      "  31.9 37.7 35.5 54.9 48.5 55.3 51.2 56.6 57.5 47.1 51.7 52.1 52.6 56.2\n",
      "  44.1 48.8 49.8 56.6 43.2 29.7 53.2 35.3 59.9 45.9 35.  46.7 56.2 52.4\n",
      "  44.2 56.6 39.7 62.3 36.8 58.8 63.  48.8]\n",
      " [38.2 49.6 49.6 33.7 63.  44.4 58.8 51.5 55.8 51.7 63.  43.8 63.4 63.1\n",
      "  43.2 57.  58.9 54.  44.9 52.  41.3 55.7 57.4 64.5 48.1 56.5 54.4 51.\n",
      "  50.8 48.4 38.2 48.1 54.5 61.5 39.3 50.2 54.7 56.6 42.1 61.3 48.7 54.5\n",
      "  50.2 63.4 39.1 51.3 55.9 50.9 46.8 54.9]\n",
      " [42.6 67.4 52.3 55.3 53.4 40.9 37.8 38.4 40.2 52.1 53.2 52.  45.3 47.4\n",
      "  43.9 61.  31.3 42.3 40.7 57.4 51.2 52.7 44.8 42.4 43.2 50.7 32.  36.5\n",
      "  37.7 48.5 40.9 29.4 37.4 60.3 53.  59.5 37.5 49.4 54.7 56.4 36.1 58.4\n",
      "  59.1 47.8 51.7 35.6 45.7 50.9 56.1 39.6]\n",
      " [38.8 54.3 43.9 43.5 46.1 52.7 44.  35.6 66.4 44.5 61.1 59.1 35.9 44.5\n",
      "  39.4 50.2 34.5 63.1 57.4 63.4 46.1 41.2 63.8 51.3 40.3 40.1 66.1 44.9\n",
      "  25.6 39.8 26.4 64.5 47.8 56.8 45.  47.8 43.5 60.1 56.1 43.7 50.8 39.3\n",
      "  43.7 33.9 61.9 48.5 56.4 52.  59.8 42.8]\n",
      " [46.7 43.4 66.8 39.1 61.9 23.8 60.  44.2 40.  63.5 66.6 33.2 42.4 49.2\n",
      "  50.9 60.9 60.6 38.2 67.4 56.5 70.6 47.9 59.2 27.8 29.6 59.6 62.  54.3\n",
      "  43.2 56.5 49.  54.4 55.1 45.6 50.6 48.  34.6 36.6 39.8 42.6 50.3 50.\n",
      "  59.8 42.3 53.1 28.2 45.3 62.1 38.6 51. ]\n",
      " [51.2 37.7 46.1 49.9 41.7 51.  58.4 58.9 40.  62.1 36.7 49.3 53.3 58.4\n",
      "  55.1 53.9 22.2 51.1 62.3 49.2 43.3 44.4 55.2 39.7 46.5 45.7 49.2 48.8\n",
      "  56.4 46.4 41.8 41.4 42.3 37.4 37.6 45.4 50.3 51.6 54.9 58.  41.  51.4\n",
      "  41.  51.  43.4 41.5 41.7 61.6 56.4 45.9]\n",
      " [50.7 58.8 35.  44.8 52.2 43.4 50.4 55.2 51.2 47.4 50.2 43.8 52.9 32.7\n",
      "  45.5 59.2 62.7 46.4 46.3 37.9 51.5 61.8 54.5 38.8 37.1 46.6 58.9 68.4\n",
      "  42.7 47.3 46.6 48.7 57.6 46.6 63.5 44.4 52.6 43.1 48.7 48.8 64.  40.8\n",
      "  48.1 57.8 37.  72.8 36.2 42.1 60.7 44.9]\n",
      " [66.8 32.1 59.8 45.1 43.3 56.3 48.2 56.7 66.3 51.8 27.  60.8 54.9 45.2\n",
      "  38.6 60.8 46.1 56.4 47.3 50.2 73.  56.8 46.1 39.9 48.  47.8 30.3 52.9\n",
      "  50.  48.1 42.2 30.2 52.5 43.8 67.8 51.4 55.1 57.9 47.8 52.2 34.8 45.8\n",
      "  42.1 38.  56.3 65.5 54.2 43.3 53.2 59.3]\n",
      " [59.1 57.1 38.9 53.8 64.4 69.4 39.3 45.6 56.9 44.6 37.8 61.8 48.4 44.5\n",
      "  48.3 51.8 54.5 48.6 58.6 56.6 58.2 53.  34.9 44.5 42.6 41.8 59.  46.8\n",
      "  47.7 49.5 66.7 55.7 64.5 47.4 56.2 53.3 56.2 37.2 28.1 50.3 37.1 60.3\n",
      "  59.5 60.6 50.1 61.6 37.4 64.6 48.8 44.2]\n",
      " [54.1 41.7 42.  52.7 34.5 43.  57.7 44.1 61.7 42.9 48.  47.7 57.4 53.7\n",
      "  45.6 47.9 50.2 59.6 49.6 49.5 57.3 39.5 42.7 31.  44.2 39.2 37.3 54.\n",
      "  61.8 72.7 41.4 61.7 61.  56.  54.8 38.3 32.1 53.9 60.1 42.6 71.6 37.4\n",
      "  53.9 51.4 42.  61.4 48.5 51.6 44.1 43.7]\n",
      " [53.8 56.5 41.4 42.2 41.8 46.5 48.  29.5 48.6 61.5 54.3 50.2 41.5 58.6\n",
      "  38.1 59.2 47.3 53.1 69.7 34.  49.4 42.8 46.1 43.7 45.2 49.7 74.9 53.4\n",
      "  51.1 45.4 43.7 46.  42.1 42.7 46.3 43.3 51.3 48.4 45.2 41.9 50.8 45.5\n",
      "  51.4 32.4 44.4 56.4 56.7 60.  59.5 41.6]\n",
      " [48.2 58.6 46.  41.5 60.7 49.8 42.6 43.  60.1 48.3 40.4 68.6 46.5 32.\n",
      "  48.1 61.1 55.3 56.  41.9 50.3 37.6 46.  29.7 52.1 62.7 41.8 51.6 53.\n",
      "  52.3 39.3 40.  42.2 54.5 60.  47.7 34.8 59.2 46.8 61.3 62.8 70.7 39.2\n",
      "  38.7 30.6 48.5 49.3 66.  58.6 45.4 50.2]\n",
      " [52.1 46.8 29.5 35.  48.4 50.2 51.1 36.4 41.4 41.2 53.6 47.4 47.9 53.5\n",
      "  83.8 55.8 43.5 61.1 48.4 49.8 52.8 31.8 31.7 45.  73.2 51.7 39.  48.9\n",
      "  45.8 48.6 65.2 59.4 66.4 43.2 51.  56.8 52.2 39.1 44.7 51.  49.6 27.6\n",
      "  45.9 59.5 57.6 39.8 40.9 36.4 26.8 53.3]\n",
      " [61.9 42.8 52.  50.3 52.8 41.1 47.  43.4 63.9 39.7 69.8 54.2 56.6 34.2\n",
      "  48.7 57.  44.3 57.  25.2 54.4 36.  41.6 50.7 45.5 58.8 59.6 48.2 57.8\n",
      "  53.8 46.2 40.6 37.6 57.7 45.6 39.9 41.9 47.4 47.3 54.9 50.  41.3 39.6\n",
      "  47.5 53.7 63.  58.2 53.  46.9 59.4 55.1]\n",
      " [53.4 42.6 40.3 53.  34.3 60.2 57.  44.7 29.1 64.5 56.  46.4 48.6 45.6\n",
      "  41.8 55.7 51.6 58.9 51.  39.  55.2 44.7 47.8 37.6 46.8 40.1 45.1 75.4\n",
      "  39.7 54.1 53.3 46.2 51.  40.8 51.3 49.4 55.1 52.5 46.3 48.3 51.1 46.5\n",
      "  45.4 54.4 48.  40.2 47.6 48.  41.7 41. ]\n",
      " [48.  42.4 47.3 31.7 41.9 57.8 57.  51.8 61.2 47.5 50.5 48.3 42.7 39.\n",
      "  41.3 52.5 54.9 36.6 45.8 48.8 45.7 48.8 44.2 51.  59.3 52.8 53.  36.7\n",
      "  51.9 38.2 39.5 49.4 33.  52.9 58.5 31.9 50.4 66.1 56.2 41.  64.  47.7\n",
      "  47.6 38.9 55.1 48.8 44.6 60.  56.1 26. ]\n",
      " [58.5 66.7 33.  40.2 41.6 46.2 45.  49.8 46.3 60.7 39.4 45.3 37.5 42.1\n",
      "  41.8 45.8 59.2 52.3 53.1 55.1 54.4 62.1 58.6 41.5 45.  41.5 43.5 53.9\n",
      "  26.4 39.5 59.  45.5 38.3 40.6 61.7 34.5 30.5 46.5 53.2 51.5 52.1 53.8\n",
      "  57.  49.9 53.2 51.3 65.3 40.1 40.2 33.4]\n",
      " [55.3 53.1 44.7 41.8 49.7 61.2 58.4 57.9 54.9 36.6 59.9 49.8 43.9 44.\n",
      "  45.1 59.1 42.1 61.7 60.5 51.9 31.4 41.1 27.1 54.2 45.1 44.4 61.6 46.9\n",
      "  52.5 56.7 55.2 49.6 35.4 55.4 44.4 38.3 42.4 54.1 58.7 47.6 60.  44.3\n",
      "  52.6 56.6 49.7 57.2 35.2 30.6 59.4 67.6]\n",
      " [55.8 53.7 51.3 45.8 42.8 78.1 42.7 45.7 57.6 45.8 48.7 52.5 43.8 34.6\n",
      "  57.3 42.9 60.2 53.8 73.  51.5 58.3 45.8 65.3 49.3 47.2 42.7 51.  49.6\n",
      "  62.1 57.4 55.3 52.  49.6 44.9 60.3 39.9 59.3 50.6 56.8 56.7 46.3 40.8\n",
      "  42.5 57.5 52.  65.5 41.6 57.7 49.1 40.6]\n",
      " [46.7 34.5 55.3 44.8 68.4 52.1 25.9 54.5 50.8 51.3 46.  35.1 42.9 41.9\n",
      "  47.4 50.6 54.6 46.7 52.2 44.1 49.8 34.5 36.3 49.7 64.2 56.  44.1 58.8\n",
      "  57.4 51.7 69.9 50.8 42.8 47.3 49.5 47.4 55.9 63.1 68.3 41.1 63.2 60.5\n",
      "  50.1 50.5 60.9 56.7 47.6 48.2 39.8 49.9]] (20, 50)\n"
     ]
    }
   ],
   "source": [
    "A = np.random.randint(0, 100, size=(200, 50))\n",
    "F = np.array(np.split(A, 10)).mean(axis=0)\n",
    "print(F, F.shape)"
   ]
  },
  {
   "cell_type": "markdown",
   "metadata": {},
   "source": [
    "# Задание 2.10 (4 балла)\n",
    "\n",
    "\"Разверните\" массив `A` в одномерный массив. Оставьте в нём только уникальные элементы в том же порядке, в котором они встречаются в массиве. Используйте [np.unique()](https://numpy.org/doc/stable/reference/generated/numpy.unique.html)"
   ]
  },
  {
   "cell_type": "code",
   "execution_count": 11,
   "metadata": {},
   "outputs": [
    {
     "name": "stdout",
     "output_type": "stream",
     "text": [
      "[67 72 77 79 34 49 40 76 75 89 83 58 96 21 11  8 73 27 97 53 57 33 90 30\n",
      " 25 50 38 63  7 39 37 48 41  0 42 55 85 59 26 81 13  9 35  5 68 92 95 56\n",
      " 99 23 22 91 52 29 93 10 71 45 60 87  3 88 47 86 51 84 82 43 32 14 17 28\n",
      "  1 24 61 15 98 54 64 31  2 19 80 12  6 36 69 16 62 78 20 46 18 94 74 66\n",
      " 65 70  4 44]\n"
     ]
    }
   ],
   "source": [
    "A = np.random.randint(0, 100, size=(200, 50))\n",
    "B = np.unique(A, return_index=True)[1]\n",
    "C=np.sort(B)\n",
    "D=A.ravel()[C]\n",
    "print(D)"
   ]
  },
  {
   "cell_type": "markdown",
   "metadata": {},
   "source": [
    "# Задание 2.11 (3 балла)\n",
    "\n",
    "Создайте одномерный массив размерности $200$, в котором каждый элемент - евклидово расстояние между соответствующей строкой `A` и \"средней\" строкой `A`"
   ]
  },
  {
   "cell_type": "code",
   "execution_count": 12,
   "metadata": {},
   "outputs": [
    {
     "name": "stdout",
     "output_type": "stream",
     "text": [
      "Euclidean Distance:  [211.05776034 204.54363398 210.69484616 208.73830075 231.33585585\n",
      " 206.9618762  197.66749404 197.36070582 187.1426146  202.64680654\n",
      " 188.09489148 202.62262509 202.01204964 169.205166   186.55076574\n",
      " 205.78772607 196.31099867 208.35846083 209.92245759 203.24595494\n",
      " 200.30948105 212.96010941 195.03891458 215.04055013 203.09521954\n",
      " 193.53213738 228.07417258 196.84978588 201.1094682  208.49838896\n",
      " 227.78026297 186.65805153 217.91465807 212.35881945 226.43806703\n",
      " 195.48613301 209.27942613 202.03167623 210.17996622 236.42694051\n",
      " 207.08876889 197.22243331 231.55024984 211.67325811 202.54221338\n",
      " 194.0785104  188.24884648 201.28014855 197.1293692  209.17406197\n",
      " 206.08158142 215.87222656 221.25740259 207.1473828  197.02131408\n",
      " 214.76386614 205.57526164 219.24079958 208.6040944  218.21314855\n",
      " 202.42904485 211.37825858 211.50070496 164.60928953 198.54815084\n",
      " 188.84146314 225.34005015 213.44305611 192.88008762 203.07739461\n",
      " 197.08122234 208.7591392  226.74108185 214.87428464 196.4668883\n",
      " 221.15387901 185.381197   211.69855503 208.49510354 225.28974278\n",
      " 222.3490009  210.69491736 200.02374409 191.10266403 199.35748845\n",
      " 213.01774151 195.99894949 205.5988283  205.96207952 199.8647998\n",
      " 210.61599702 196.53686219 205.33223858 215.97899944 205.89589165\n",
      " 209.50512691 202.81984173 189.63134815 207.26670789 207.13731726\n",
      " 199.18172155 192.53835514 207.43492522 214.25535746 195.78520935\n",
      " 201.10300396 227.54210204 207.49486307 229.7539732  216.5810892\n",
      " 206.05336251 212.06746144 189.95928037 187.84056591 195.33923876\n",
      " 189.0782859  199.72075055 217.4282139  197.39209255 207.62687254\n",
      " 197.12282516 220.46117164 230.74905894 201.23438623 184.23511663\n",
      " 214.03760931 191.65716318 180.0947756  191.01143474 216.74565324\n",
      " 194.92759733 216.97750621 207.63790165 201.62687866 206.22790354\n",
      " 175.82175121 218.84628898 214.67815026 186.64272876 185.47832272\n",
      " 198.48347085 216.2468224  188.15083896 199.90179639 213.48224329\n",
      " 196.23217932 180.13674861 198.14862654 223.71117138 201.21900556\n",
      " 210.79899952 211.48101144 208.90877961 219.48562185 205.25106139\n",
      " 214.16719683 198.32218282 197.92530965 202.93124008 203.52994423\n",
      " 215.07054238 215.54542027 184.13421246 187.86643713 192.08133225\n",
      " 188.86312027 226.2332385  196.11608348 210.59705174 194.93970401\n",
      " 218.17987579 198.07523369 196.82275834 221.05055576 212.69172104\n",
      " 188.37655958 193.9930107  207.69775685 205.06052326 200.52642768\n",
      " 211.95944942 189.72677249 194.30128203 218.11253563 201.37571403\n",
      " 224.03293999 215.09846164 204.60116862 200.99188591 200.41249512\n",
      " 208.05357051 197.83722653 233.50725513 191.55301668 212.53667495\n",
      " 214.33468735 214.28632294 203.83215693 220.52056185 208.30189197]\n"
     ]
    }
   ],
   "source": [
    "#initializing two arrays\n",
    "A = np.random.randint(0, 100, size=(200, 50))\n",
    "B = A.mean(axis=0)\n",
    "#computing the Euclidan distance\n",
    "C = A - B\n",
    "dis=np.sqrt(np.sum(np.square(C), axis=1))\n",
    "print(\"Euclidean Distance: \", dis)"
   ]
  },
  {
   "cell_type": "markdown",
   "metadata": {},
   "source": [
    "# Задание 2.12 (2 балла)\n",
    "\n",
    "Создайте новый массив, который состоит из элементов `A`, измененных по следующим правилам:\n",
    "- если элемент меньше $50$, то он умножается на $2$\n",
    "- в противном случае он умножается на $3$\n",
    "\n",
    "Используйте [np.where()](https://numpy.org/doc/stable/reference/generated/numpy.where.html)"
   ]
  },
  {
   "cell_type": "code",
   "execution_count": 13,
   "metadata": {},
   "outputs": [
    {
     "name": "stdout",
     "output_type": "stream",
     "text": [
      "[[ 76 201  44 ... 285 177 234]\n",
      " [168  12  86 ... 222  92 234]\n",
      " [ 66 270   2 ...  30  80 198]\n",
      " ...\n",
      " [237  14  64 ...  64 240   4]\n",
      " [ 68 168  10 ...  16 180 285]\n",
      " [207  56 291 ...  80  60  96]] (200, 50)\n"
     ]
    }
   ],
   "source": [
    "A = np.random.randint(0, 100, size=(200, 50))\n",
    "B = np.where(A < 50, A * 2, A * 3)\n",
    "print(B,B.shape)"
   ]
  },
  {
   "cell_type": "markdown",
   "metadata": {},
   "source": [
    "# Задание 2.13 (7 баллов)\n",
    "\n",
    "Разверните массив `A` в одномерный массив. Создайте три новых массива, подсчитав скользящие средние по окнам $3$, $5$, $10$. Найдите сумму этих массивов, выровнив из размерности нулями справа\n",
    "\n",
    "*Tip: реализуйте функцию, которая считает скользящее среднее. Используйте [np.cumsum()](https://numpy.org/doc/stable/reference/generated/numpy.cumsum.html) или [np.convolve()](https://numpy.org/doc/stable/reference/generated/numpy.convolve.html)*"
   ]
  },
  {
   "cell_type": "code",
   "execution_count": 14,
   "metadata": {},
   "outputs": [
    {
     "name": "stdout",
     "output_type": "stream",
     "text": [
      "[27.33333333 21.         20.         ...  0.          0.\n",
      "  0.        ]\n",
      "(30291,)\n",
      "493458.3333333334\n",
      "493438.0\n",
      "493319.20000000007\n"
     ]
    }
   ],
   "source": [
    "def moving_average(X, N=3):\n",
    "    cumsum = np.cumsum(X, dtype=float) \n",
    "    return (cumsum[N:] - cumsum[:-N]) / float(N)\n",
    "A = np.random.randint(0, 100, size=(200, 50))  \n",
    "B = np.concatenate((A, np.zeros((2, 50))), axis=0)\n",
    "C = moving_average(B, 3)\n",
    "D = moving_average(B, 5)\n",
    "E = moving_average(B, 10)\n",
    "D = np.pad(D, ((0,  C.shape[0] - D.shape[0])), 'constant')\n",
    "E = np.pad(E, ((0,  C.shape[0] - E.shape[0])), 'constant')\n",
    "H = np.concatenate((C, D, E))\n",
    "print(H)\n",
    "print(H.shape)\n",
    "print(C.sum(axis=0))\n",
    "print(D.sum(axis=0))\n",
    "print(E.sum(axis=0))  "
   ]
  },
  {
   "cell_type": "markdown",
   "metadata": {},
   "source": [
    "# Задание 2.14 (8 баллов)\n",
    "\n",
    "Постройте график функции $$f(x) = (5  \\sin(2x) - \\cos^2(x) - 1 + |x^3| - x^2) / (x^2 + 1)$$  \n",
    "\n",
    "и производной от этой функции.  Найдите минимум с помощью `scipy` и обозначьте его на графике. На этой же оси постройте графики скользящего среднего этой функции с окном $1$, $2$, $5$."
   ]
  },
  {
   "cell_type": "code",
   "execution_count": 15,
   "metadata": {},
   "outputs": [
    {
     "name": "stdout",
     "output_type": "stream",
     "text": [
      "Optimization terminated successfully.\n",
      "         Current function value: -4.882074\n",
      "         Iterations: 23\n",
      "         Function evaluations: 46\n"
     ]
    },
    {
     "ename": "ValueError",
     "evalue": "x and y must have same first dimension, but have shapes (200,) and (199,)",
     "output_type": "error",
     "traceback": [
      "\u001b[1;31m---------------------------------------------------------------------------\u001b[0m",
      "\u001b[1;31mValueError\u001b[0m                                Traceback (most recent call last)",
      "Cell \u001b[1;32mIn [15], line 20\u001b[0m\n\u001b[0;32m     18\u001b[0m sub_plot\u001b[39m.\u001b[39mplot(x, y, label\u001b[39m=\u001b[39m\u001b[39m'\u001b[39m\u001b[39mf(x)\u001b[39m\u001b[39m'\u001b[39m, color\u001b[39m=\u001b[39m\u001b[39m'\u001b[39m\u001b[39mdarkmagenta\u001b[39m\u001b[39m'\u001b[39m, linewidth\u001b[39m=\u001b[39m\u001b[39m2\u001b[39m, linestyle\u001b[39m=\u001b[39m\u001b[39m'\u001b[39m\u001b[39m-\u001b[39m\u001b[39m'\u001b[39m, marker\u001b[39m=\u001b[39m\u001b[39m'\u001b[39m\u001b[39mo\u001b[39m\u001b[39m'\u001b[39m, markersize\u001b[39m=\u001b[39m\u001b[39m2\u001b[39m)\n\u001b[0;32m     19\u001b[0m sub_plot\u001b[39m.\u001b[39mplot(x, diff, label\u001b[39m=\u001b[39m\u001b[39m'\u001b[39m\u001b[39mf\u001b[39m\u001b[39m\\'\u001b[39;00m\u001b[39m(x)\u001b[39m\u001b[39m'\u001b[39m, color\u001b[39m=\u001b[39m\u001b[39m'\u001b[39m\u001b[39mgreen\u001b[39m\u001b[39m'\u001b[39m, linewidth\u001b[39m=\u001b[39m\u001b[39m2\u001b[39m, linestyle\u001b[39m=\u001b[39m\u001b[39m'\u001b[39m\u001b[39m--\u001b[39m\u001b[39m'\u001b[39m, marker\u001b[39m=\u001b[39m\u001b[39m'\u001b[39m\u001b[39mo\u001b[39m\u001b[39m'\u001b[39m, markersize\u001b[39m=\u001b[39m\u001b[39m2\u001b[39m)\n\u001b[1;32m---> 20\u001b[0m sub_plot\u001b[39m.\u001b[39;49mplot(x, Function_1, label\u001b[39m=\u001b[39;49m\u001b[39m'\u001b[39;49m\u001b[39mmoving average 1\u001b[39;49m\u001b[39m'\u001b[39;49m, color\u001b[39m=\u001b[39;49m\u001b[39m'\u001b[39;49m\u001b[39mcrimson\u001b[39;49m\u001b[39m'\u001b[39;49m, linewidth\u001b[39m=\u001b[39;49m\u001b[39m2\u001b[39;49m, linestyle\u001b[39m=\u001b[39;49m\u001b[39m'\u001b[39;49m\u001b[39m--\u001b[39;49m\u001b[39m'\u001b[39;49m, marker\u001b[39m=\u001b[39;49m\u001b[39m'\u001b[39;49m\u001b[39mo\u001b[39;49m\u001b[39m'\u001b[39;49m, markersize\u001b[39m=\u001b[39;49m\u001b[39m2\u001b[39;49m)\n\u001b[0;32m     21\u001b[0m sub_plot\u001b[39m.\u001b[39mplot(x[\u001b[39m1\u001b[39m:], Function_2, label\u001b[39m=\u001b[39m\u001b[39m'\u001b[39m\u001b[39mmoving average 2\u001b[39m\u001b[39m'\u001b[39m, color\u001b[39m=\u001b[39m\u001b[39m'\u001b[39m\u001b[39mblack\u001b[39m\u001b[39m'\u001b[39m, linewidth\u001b[39m=\u001b[39m\u001b[39m2\u001b[39m, linestyle\u001b[39m=\u001b[39m\u001b[39m'\u001b[39m\u001b[39m--\u001b[39m\u001b[39m'\u001b[39m, marker\u001b[39m=\u001b[39m\u001b[39m'\u001b[39m\u001b[39mo\u001b[39m\u001b[39m'\u001b[39m, markersize\u001b[39m=\u001b[39m\u001b[39m2\u001b[39m)\n\u001b[0;32m     22\u001b[0m sub_plot\u001b[39m.\u001b[39mplot(x[\u001b[39m4\u001b[39m:], Function_5, label\u001b[39m=\u001b[39m\u001b[39m'\u001b[39m\u001b[39mmoving average 5\u001b[39m\u001b[39m'\u001b[39m, color\u001b[39m=\u001b[39m\u001b[39m'\u001b[39m\u001b[39myellow\u001b[39m\u001b[39m'\u001b[39m, linewidth\u001b[39m=\u001b[39m\u001b[39m2\u001b[39m, linestyle\u001b[39m=\u001b[39m\u001b[39m'\u001b[39m\u001b[39m--\u001b[39m\u001b[39m'\u001b[39m, marker\u001b[39m=\u001b[39m\u001b[39m'\u001b[39m\u001b[39mo\u001b[39m\u001b[39m'\u001b[39m, markersize\u001b[39m=\u001b[39m\u001b[39m2\u001b[39m)\n",
      "File \u001b[1;32mc:\\Users\\张佳\\AppData\\Local\\Programs\\Python\\Python310\\lib\\site-packages\\matplotlib\\axes\\_axes.py:1662\u001b[0m, in \u001b[0;36mAxes.plot\u001b[1;34m(self, scalex, scaley, data, *args, **kwargs)\u001b[0m\n\u001b[0;32m   1419\u001b[0m \u001b[39m\"\"\"\u001b[39;00m\n\u001b[0;32m   1420\u001b[0m \u001b[39mPlot y versus x as lines and/or markers.\u001b[39;00m\n\u001b[0;32m   1421\u001b[0m \n\u001b[1;32m   (...)\u001b[0m\n\u001b[0;32m   1659\u001b[0m \u001b[39m(``'green'``) or hex strings (``'#008000'``).\u001b[39;00m\n\u001b[0;32m   1660\u001b[0m \u001b[39m\"\"\"\u001b[39;00m\n\u001b[0;32m   1661\u001b[0m kwargs \u001b[39m=\u001b[39m cbook\u001b[39m.\u001b[39mnormalize_kwargs(kwargs, mlines\u001b[39m.\u001b[39mLine2D)\n\u001b[1;32m-> 1662\u001b[0m lines \u001b[39m=\u001b[39m [\u001b[39m*\u001b[39m\u001b[39mself\u001b[39m\u001b[39m.\u001b[39m_get_lines(\u001b[39m*\u001b[39margs, data\u001b[39m=\u001b[39mdata, \u001b[39m*\u001b[39m\u001b[39m*\u001b[39mkwargs)]\n\u001b[0;32m   1663\u001b[0m \u001b[39mfor\u001b[39;00m line \u001b[39min\u001b[39;00m lines:\n\u001b[0;32m   1664\u001b[0m     \u001b[39mself\u001b[39m\u001b[39m.\u001b[39madd_line(line)\n",
      "File \u001b[1;32mc:\\Users\\张佳\\AppData\\Local\\Programs\\Python\\Python310\\lib\\site-packages\\matplotlib\\axes\\_base.py:311\u001b[0m, in \u001b[0;36m_process_plot_var_args.__call__\u001b[1;34m(self, data, *args, **kwargs)\u001b[0m\n\u001b[0;32m    309\u001b[0m     this \u001b[39m+\u001b[39m\u001b[39m=\u001b[39m args[\u001b[39m0\u001b[39m],\n\u001b[0;32m    310\u001b[0m     args \u001b[39m=\u001b[39m args[\u001b[39m1\u001b[39m:]\n\u001b[1;32m--> 311\u001b[0m \u001b[39myield from\u001b[39;00m \u001b[39mself\u001b[39;49m\u001b[39m.\u001b[39;49m_plot_args(\n\u001b[0;32m    312\u001b[0m     this, kwargs, ambiguous_fmt_datakey\u001b[39m=\u001b[39;49mambiguous_fmt_datakey)\n",
      "File \u001b[1;32mc:\\Users\\张佳\\AppData\\Local\\Programs\\Python\\Python310\\lib\\site-packages\\matplotlib\\axes\\_base.py:504\u001b[0m, in \u001b[0;36m_process_plot_var_args._plot_args\u001b[1;34m(self, tup, kwargs, return_kwargs, ambiguous_fmt_datakey)\u001b[0m\n\u001b[0;32m    501\u001b[0m     \u001b[39mself\u001b[39m\u001b[39m.\u001b[39maxes\u001b[39m.\u001b[39myaxis\u001b[39m.\u001b[39mupdate_units(y)\n\u001b[0;32m    503\u001b[0m \u001b[39mif\u001b[39;00m x\u001b[39m.\u001b[39mshape[\u001b[39m0\u001b[39m] \u001b[39m!=\u001b[39m y\u001b[39m.\u001b[39mshape[\u001b[39m0\u001b[39m]:\n\u001b[1;32m--> 504\u001b[0m     \u001b[39mraise\u001b[39;00m \u001b[39mValueError\u001b[39;00m(\u001b[39mf\u001b[39m\u001b[39m\"\u001b[39m\u001b[39mx and y must have same first dimension, but \u001b[39m\u001b[39m\"\u001b[39m\n\u001b[0;32m    505\u001b[0m                      \u001b[39mf\u001b[39m\u001b[39m\"\u001b[39m\u001b[39mhave shapes \u001b[39m\u001b[39m{\u001b[39;00mx\u001b[39m.\u001b[39mshape\u001b[39m}\u001b[39;00m\u001b[39m and \u001b[39m\u001b[39m{\u001b[39;00my\u001b[39m.\u001b[39mshape\u001b[39m}\u001b[39;00m\u001b[39m\"\u001b[39m)\n\u001b[0;32m    506\u001b[0m \u001b[39mif\u001b[39;00m x\u001b[39m.\u001b[39mndim \u001b[39m>\u001b[39m \u001b[39m2\u001b[39m \u001b[39mor\u001b[39;00m y\u001b[39m.\u001b[39mndim \u001b[39m>\u001b[39m \u001b[39m2\u001b[39m:\n\u001b[0;32m    507\u001b[0m     \u001b[39mraise\u001b[39;00m \u001b[39mValueError\u001b[39;00m(\u001b[39mf\u001b[39m\u001b[39m\"\u001b[39m\u001b[39mx and y can be no greater than 2D, but have \u001b[39m\u001b[39m\"\u001b[39m\n\u001b[0;32m    508\u001b[0m                      \u001b[39mf\u001b[39m\u001b[39m\"\u001b[39m\u001b[39mshapes \u001b[39m\u001b[39m{\u001b[39;00mx\u001b[39m.\u001b[39mshape\u001b[39m}\u001b[39;00m\u001b[39m and \u001b[39m\u001b[39m{\u001b[39;00my\u001b[39m.\u001b[39mshape\u001b[39m}\u001b[39;00m\u001b[39m\"\u001b[39m)\n",
      "\u001b[1;31mValueError\u001b[0m: x and y must have same first dimension, but have shapes (200,) and (199,)"
     ]
    },
    {
     "data": {
      "image/png": "[encoded data removed]",
      "text/plain": [
       "<Figure size 640x480 with 1 Axes>"
      ]
     },
     "metadata": {},
     "output_type": "display_data"
    }
   ],
   "source": [
    "import matplotlib.pyplot as plt\n",
    "from scipy.optimize import fmin\n",
    "from scipy.misc import derivative\n",
    "\n",
    "def f(x):\n",
    "    return (5 * np.sin(2 * x) - np.cos(x) ** 2 - 1 + np.abs(x ** 3) - x ** 2) / (x ** 2 + 1)\n",
    "\n",
    "x = np.arange(-10, 10, 0.1)\n",
    "y = f(x)\n",
    "diff = derivative(f, x, dx=1e-6)\n",
    "\n",
    "Function_min = fmin(f, np.array([0]))\n",
    "\n",
    "Function_1 = moving_average(y, 1)\n",
    "Function_2 = moving_average(y, 2)\n",
    "Function_5 = moving_average(y, 5)\n",
    "Figure, sub_plot = plt.subplots()\n",
    "sub_plot.plot(x, y, label='f(x)', color='darkmagenta', linewidth=2, linestyle='-', marker='o', markersize=2)\n",
    "sub_plot.plot(x, diff, label='f\\'(x)', color='green', linewidth=2, linestyle='--', marker='o', markersize=2)\n",
    "sub_plot.plot(x, Function_1, label='moving average 1', color='crimson', linewidth=2, linestyle='--', marker='o', markersize=2)\n",
    "sub_plot.plot(x[1:], Function_2, label='moving average 2', color='black', linewidth=2, linestyle='--', marker='o', markersize=2)\n",
    "sub_plot.plot(x[4:], Function_5, label='moving average 5', color='yellow', linewidth=2, linestyle='--', marker='o', markersize=2)\n",
    "sub_plot.plot(Function_min, f(Function_min), label='min', color='red', linewidth=2, linestyle='--', marker='o', markersize=2)\n",
    "\n",
    "plt.show()\n",
    "\n"
   ]
  },
  {
   "cell_type": "markdown",
   "metadata": {},
   "source": [
    "# Задание 2.15 (10 баллов)\n",
    "\n",
    "Есть следующий алгоритм семплинирования, на вход функции подается вектор из целых положительных чисел и число семплов."
   ]
  },
  {
   "cell_type": "code",
   "execution_count": null,
   "metadata": {},
   "outputs": [
    {
     "data": {
      "text/plain": [
       "[3, 0, 4, 4, 0]"
      ]
     },
     "execution_count": 56,
     "metadata": {},
     "output_type": "execute_result"
    }
   ],
   "source": [
    "from typing import List \n",
    "\n",
    "def sample(x: List[int], c: int) -> List[int]:\n",
    "    assert len(x) > 0\n",
    "    \n",
    "    s = np.sum(x)\n",
    "    res = []\n",
    "    for _ in range(c):\n",
    "        val = s * np.random.random()\n",
    "        cur, idx = 0, 0        \n",
    "        while cur + x[idx] <= val:\n",
    "            cur += x[idx]\n",
    "            idx += 1\n",
    "            \n",
    "        res.append(idx)\n",
    "    return res\n",
    "\n",
    "            \n",
    "sample([50, 3, 1, 7, 20], 5)   "
   ]
  },
  {
   "cell_type": "markdown",
   "metadata": {},
   "source": [
    "Реализуйте данный алгоритм более оптимальным способом на массивах `numpy`, без использования циклов. Проверьте корректность и идентичность алгоритмов семплирования с помощью статистических тестов."
   ]
  },
  {
   "cell_type": "code",
   "execution_count": null,
   "metadata": {},
   "outputs": [
    {
     "data": {
      "text/plain": [
       "array([0, 0, 0, 2, 0], dtype=int64)"
      ]
     },
     "execution_count": 62,
     "metadata": {},
     "output_type": "execute_result"
    }
   ],
   "source": [
    "def sample(x: np.ndarray, c: int) -> np.ndarray:\n",
    "    assert len(x) > 0\n",
    "    \n",
    "    s = np.sum(x)\n",
    "    val = s * np.random.random(size=c)\n",
    "    idx = np.searchsorted(np.cumsum(x), val)\n",
    "    return idx\n",
    "\n",
    "sample(np.array([50, 3, 1, 7, 20]), 5)"
   ]
  },
  {
   "cell_type": "markdown",
   "metadata": {},
   "source": [
    "# Задание 2.16 (5 баллов)\n",
    "\n",
    "Есть следующий алгоритм \"случайного блуждания\""
   ]
  },
  {
   "cell_type": "code",
   "execution_count": null,
   "metadata": {},
   "outputs": [
    {
     "data": {
      "text/plain": [
       "0.0033606999986659503"
      ]
     },
     "execution_count": 79,
     "metadata": {},
     "output_type": "execute_result"
    }
   ],
   "source": [
    "import random \n",
    "import timeit \n",
    "def walk(n: int):\n",
    "    cur_position = 0 # walk method\n",
    "    for i in range(n):\n",
    "        cur_position += random.choice([-3, -1, 0, 2, 3])\n",
    "    #returns current position after each random step\n",
    "    return cur_position\n",
    "\n",
    "walk(10_000)#call the function walk\n",
    "timeit.timeit(\"walk(n=10000)\", number=1, globals=globals()) # calculates the total loops and time per loop"
   ]
  },
  {
   "cell_type": "markdown",
   "metadata": {},
   "source": [
    "Реализуйте более эффективную версию с помощью `numpy`, сравните производительность (используя, например, magic `timeit`). Воспользовавшись [kdeplot()](https://seaborn.pydata.org/generated/seaborn.kdeplot.html) или аналогами, постройте график распределения значений `walk(10_000)` на каком-то разумном числе запусков. "
   ]
  },
  {
   "cell_type": "code",
   "execution_count": null,
   "metadata": {},
   "outputs": [
    {
     "data": {
      "image/png": "[encoded data removed]",
      "text/plain": [
       "<Figure size 640x480 with 1 Axes>"
      ]
     },
     "metadata": {},
     "output_type": "display_data"
    }
   ],
   "source": [
    "import seaborn as sns\n",
    "import matplotlib.pyplot as plt\n",
    "import numpy as np\n",
    "\n",
    "def walk(n: int):\n",
    "    return np.random.choice([-3, -1, 0, 2, 3], size=n).sum()\n",
    "\n",
    "walk(10_000)\n",
    "\n",
    "timeit.timeit('walk(10_000)', globals=globals(), number=1)\n",
    "\n",
    "sns.kdeplot([walk(10_000) for _ in range(1000)], fill=True, alpha=0.2)\n",
    "plt.show()\n",
    "\n"
   ]
  },
  {
   "cell_type": "markdown",
   "metadata": {},
   "source": [
    "# Задание 2.17 (5 баллов)\n",
    "\n",
    "Имеется функция, которая проделывает достаточно странные манипуляции с массивом `numpy`"
   ]
  },
  {
   "cell_type": "code",
   "execution_count": null,
   "metadata": {},
   "outputs": [
    {
     "data": {
      "text/plain": [
       "0.8924771949245737"
      ]
     },
     "execution_count": 155,
     "metadata": {},
     "output_type": "execute_result"
    }
   ],
   "source": [
    "import numpy.typing as npt\n",
    "\n",
    "def strange_conv(a: npt.NDArray[np.float64]) -> np.float64:\n",
    "    x = a.shape[0]\n",
    "    y = a.shape[1]\n",
    "\n",
    "    t = 1.\n",
    "    for y in range(y - 5):\n",
    "        for x in range(x - 3):\n",
    "            c = 1.5 * a[y+1, x+2] - a[y+5, x+3] * a[y, x] + 0.2 * a[y+4, x]\n",
    "            t = 0.2 * t + 0.8 * c\n",
    "\n",
    "    return t\n",
    "\n",
    "\n",
    "a = np.random.random((10000, 10000))\n",
    "strange_conv(a)\n"
   ]
  },
  {
   "cell_type": "markdown",
   "metadata": {},
   "source": [
    "Оптимизируйте данную функцию с помощью (2 на выбор):\n",
    "- [Numba](https://numba.pydata.org)\n",
    "- `Cython` (+5 баллов)\n",
    "- [Taichi](https://github.com/taichi-dev/taichi) (+5 баллов)\n",
    "- `Pythran `[[1]](https://pythran.readthedocs.io/en/latest/), [[2]](https://serge-sans-paille.github.io/pythran-stories/pythran-tutorial.html) (+2 балла)\n",
    "\n",
    "Сравните производительность."
   ]
  },
  {
   "cell_type": "code",
   "execution_count": null,
   "metadata": {},
   "outputs": [
    {
     "name": "stdout",
     "output_type": "stream",
     "text": [
      "[Taichi] Starting on arch=x64\n"
     ]
    },
    {
     "ename": "TypeError",
     "evalue": "strange_conv() missing 1 required positional argument: 'a'",
     "output_type": "error",
     "traceback": [
      "\u001b[1;31m---------------------------------------------------------------------------\u001b[0m",
      "\u001b[1;31mTypeError\u001b[0m                                 Traceback (most recent call last)",
      "Cell \u001b[1;32mIn [162], line 19\u001b[0m\n\u001b[0;32m     17\u001b[0m t0 \u001b[39m=\u001b[39m time\u001b[39m.\u001b[39mtime()\n\u001b[0;32m     18\u001b[0m a \u001b[39m=\u001b[39m np\u001b[39m.\u001b[39mrandom\u001b[39m.\u001b[39mrandom((\u001b[39m10000\u001b[39m, \u001b[39m10000\u001b[39m))\n\u001b[1;32m---> 19\u001b[0m \u001b[39mprint\u001b[39m(\u001b[39m'\u001b[39m\u001b[39mPI =\u001b[39m\u001b[39m'\u001b[39m, strange_conv())\n\u001b[0;32m     20\u001b[0m t1 \u001b[39m=\u001b[39m time\u001b[39m.\u001b[39mtime()\n\u001b[0;32m     21\u001b[0m \u001b[39mprint\u001b[39m(\u001b[39mf\u001b[39m\u001b[39m'\u001b[39m\u001b[39m{\u001b[39;00mt1 \u001b[39m-\u001b[39m t0\u001b[39m:\u001b[39;00m\u001b[39m.3\u001b[39m\u001b[39m}\u001b[39;00m\u001b[39m sec\u001b[39m\u001b[39m'\u001b[39m)\n",
      "\u001b[1;31mTypeError\u001b[0m: strange_conv() missing 1 required positional argument: 'a'"
     ]
    }
   ],
   "source": [
    "import taichi as ti\n",
    "import time\n",
    "ti.init(arch=ti.cpu)\n",
    "import numpy as np\n",
    "def strange_conv(a:ti ) -> ti.f64:\n",
    "    x = a.shape[0]\n",
    "    y = a.shape[1]\n",
    "\n",
    "    t = 1.\n",
    "    for y in range(y - 5):\n",
    "        for x in range(x - 3):\n",
    "            c = 1.5 * a[y+1, x+2] - a[y+5, x+3] * a[y, x] + 0.2 * a[y+4, x]\n",
    "            t = 0.2 * t + 0.8 * c\n",
    "\n",
    "    return t\n",
    "\n",
    "t0 = time.time()\n",
    "a = np.random.random((10000, 10000))\n",
    "print('PI =', strange_conv())\n",
    "t1 = time.time()\n",
    "print(f'{t1 - t0:.3} sec')"
   ]
  }
 ],
 "metadata": {
  "kernelspec": {
   "display_name": "Python 3.10.8 64-bit",
   "language": "python",
   "name": "python3"
  },
  "language_info": {
   "codemirror_mode": {
    "name": "ipython",
    "version": 3
   },
   "file_extension": ".py",
   "mimetype": "text/x-python",
   "name": "python",
   "nbconvert_exporter": "python",
   "pygments_lexer": "ipython3",
   "version": "3.10.8"
  },
  "orig_nbformat": 4,
  "vscode": {
   "interpreter": {
    "hash": "a27408a912e1659601da116caee4e05fd6381c5653a5d3a4751b21f563f62057"
   }
  }
 },
 "nbformat": 4,
 "nbformat_minor": 2
}
